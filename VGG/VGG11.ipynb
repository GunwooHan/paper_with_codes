{
 "cells": [
  {
   "cell_type": "code",
   "execution_count": 1,
   "metadata": {},
   "outputs": [],
   "source": [
    "import tensorflow as tf\n",
    "import matplotlib.pyplot as plt\n",
    "import numpy as np\n",
    "import tensorflow_datasets as tfds"
   ]
  },
  {
   "cell_type": "code",
   "execution_count": 2,
   "metadata": {},
   "outputs": [],
   "source": [
    "import urllib3\n",
    "urllib3.disable_warnings()\n",
    "\n",
    "#tfds.disable_progress_bar()   # 이 주석을 풀면 데이터셋 다운로드과정의 프로그레스바가 나타나지 않습니다.\n",
    "\n",
    "(ds_train, ds_test), ds_info = tfds.load(\n",
    "    'cifar10',\n",
    "    split=['train', 'test'],\n",
    "    shuffle_files=True,\n",
    "    with_info=True,\n",
    ")"
   ]
  },
  {
   "cell_type": "code",
   "execution_count": 3,
   "metadata": {},
   "outputs": [],
   "source": [
    "def normalize_and_resize_img(image, label):\n",
    "    \"\"\"Normalizes images: `uint8` -> `float32`.\"\"\"\n",
    "    # image = tf.image.resize(image, [32, 32])\n",
    "    return tf.cast(image, tf.float32) / 255., label"
   ]
  },
  {
   "cell_type": "code",
   "execution_count": 4,
   "metadata": {},
   "outputs": [],
   "source": [
    "def apply_normalize_on_dataset(ds, is_test=False, batch_size=16):\n",
    "    ds = ds.map(\n",
    "        normalize_and_resize_img, \n",
    "        num_parallel_calls=1\n",
    "    )\n",
    "    ds = ds.batch(batch_size)\n",
    "    if not is_test:\n",
    "        ds = ds.repeat()\n",
    "        ds = ds.shuffle(200)\n",
    "    ds = ds.prefetch(tf.data.experimental.AUTOTUNE)\n",
    "    return ds"
   ]
  },
  {
   "cell_type": "code",
   "execution_count": 5,
   "metadata": {},
   "outputs": [],
   "source": [
    "class VGG11(tf.keras.Model):\n",
    "    def __init__(self):\n",
    "        super(VGG11,self).__init__()\n",
    "        self.conv1_1 = tf.keras.layers.Conv2D(64, kernel_size=3, strides=1, padding='same',activation='relu')\n",
    "        self.maxpool1 = tf.keras.layers.MaxPool2D(pool_size=2)\n",
    "        \n",
    "        self.conv2_1 = tf.keras.layers.Conv2D(128, kernel_size=3, strides=1, padding='same',activation='relu')\n",
    "        self.maxpool2 = tf.keras.layers.MaxPool2D(pool_size=2)\n",
    "        \n",
    "        self.conv3_1 = tf.keras.layers.Conv2D(256, kernel_size=3, strides=1, padding='same',activation='relu')\n",
    "        self.conv3_2 = tf.keras.layers.Conv2D(256, kernel_size=3, strides=1, padding='same',activation='relu')\n",
    "        self.maxpool3 = tf.keras.layers.MaxPool2D(pool_size=2)\n",
    "        \n",
    "        self.conv4_1 = tf.keras.layers.Conv2D(512, kernel_size=3, strides=1, padding='same',activation='relu')\n",
    "        self.conv4_2 = tf.keras.layers.Conv2D(512, kernel_size=3, strides=1, padding='same',activation='relu')\n",
    "        self.maxpool4 = tf.keras.layers.MaxPool2D(pool_size=2)\n",
    "        \n",
    "        self.conv5_1 = tf.keras.layers.Conv2D(512, kernel_size=3, strides=1, padding='same',activation='relu')\n",
    "        self.conv5_2 = tf.keras.layers.Conv2D(512, kernel_size=3, strides=1, padding='same',activation='relu')\n",
    "        self.maxpool5 = tf.keras.layers.MaxPool2D(pool_size=2)\n",
    "\n",
    "        self.gap = tf.keras.layers.GlobalAveragePooling2D()\n",
    "        self.fc1 = tf.keras.layers.Dense(4096, activation='relu')\n",
    "        self.fc2 = tf.keras.layers.Dense(4096, activation='relu')\n",
    "        self.fc3 = tf.keras.layers.Dense(10, activation='softmax')        \n",
    "        \n",
    "    def call(self, input_tensor):\n",
    "        x = self.conv1_1(input_tensor)\n",
    "        x = self.maxpool1(x)\n",
    "        \n",
    "        x = self.conv2_1(x)\n",
    "        x = self.maxpool2(x)\n",
    "        \n",
    "        x = self.conv3_1(x)\n",
    "        x = self.conv3_2(x)\n",
    "        x = self.maxpool3(x)\n",
    "        \n",
    "        x = self.conv4_1(x)\n",
    "        x = self.conv4_2(x)\n",
    "        x = self.maxpool4(x)\n",
    "        \n",
    "        x = self.conv5_1(x)\n",
    "        x = self.conv5_2(x)\n",
    "        x = self.maxpool5(x)\n",
    "        \n",
    "        x = self.gap(x)\n",
    "        x = self.fc1(x)\n",
    "        x = self.fc2(x)\n",
    "        x = self.fc3(x)\n",
    "        return x"
   ]
  },
  {
   "cell_type": "code",
   "execution_count": 6,
   "metadata": {},
   "outputs": [],
   "source": [
    "BATCH_SIZE = 256\n",
    "EPOCH = 20\n",
    "\n",
    "(ds_train, ds_test), ds_info = tfds.load(\n",
    "    'cifar10',\n",
    "    split=['train', 'test'],\n",
    "    as_supervised=True,\n",
    "    shuffle_files=True,\n",
    "    with_info=True,\n",
    ")\n",
    "ds_train = apply_normalize_on_dataset(ds_train, batch_size=BATCH_SIZE)\n",
    "ds_test = apply_normalize_on_dataset(ds_test, batch_size=BATCH_SIZE)"
   ]
  },
  {
   "cell_type": "code",
   "execution_count": 7,
   "metadata": {},
   "outputs": [
    {
     "name": "stdout",
     "output_type": "stream",
     "text": [
      "Epoch 1/20\n",
      "195/195 [==============================] - 10s 50ms/step - loss: 2.3024 - accuracy: 0.1040 - val_loss: 2.3022 - val_accuracy: 0.0993\n",
      "Epoch 2/20\n",
      "195/195 [==============================] - 8s 43ms/step - loss: 2.3020 - accuracy: 0.1380 - val_loss: 2.3018 - val_accuracy: 0.1728\n",
      "Epoch 3/20\n",
      "195/195 [==============================] - 8s 43ms/step - loss: 2.3017 - accuracy: 0.1474 - val_loss: 2.3015 - val_accuracy: 0.1735\n",
      "Epoch 4/20\n",
      "195/195 [==============================] - 8s 43ms/step - loss: 2.3014 - accuracy: 0.1562 - val_loss: 2.3012 - val_accuracy: 0.1599\n",
      "Epoch 5/20\n",
      "195/195 [==============================] - 8s 43ms/step - loss: 2.3009 - accuracy: 0.1377 - val_loss: 2.3004 - val_accuracy: 0.1616\n",
      "Epoch 6/20\n",
      "195/195 [==============================] - 8s 42ms/step - loss: 2.3001 - accuracy: 0.1898 - val_loss: 2.2995 - val_accuracy: 0.2186\n",
      "Epoch 7/20\n",
      "195/195 [==============================] - 8s 42ms/step - loss: 2.2989 - accuracy: 0.1854 - val_loss: 2.2978 - val_accuracy: 0.1708\n",
      "Epoch 8/20\n",
      "195/195 [==============================] - 8s 42ms/step - loss: 2.2967 - accuracy: 0.1836 - val_loss: 2.2948 - val_accuracy: 0.1796\n",
      "Epoch 9/20\n",
      "195/195 [==============================] - 8s 41ms/step - loss: 2.2924 - accuracy: 0.2049 - val_loss: 2.2885 - val_accuracy: 0.1921\n",
      "Epoch 10/20\n",
      "195/195 [==============================] - 8s 42ms/step - loss: 2.2820 - accuracy: 0.1897 - val_loss: 2.2705 - val_accuracy: 0.1583\n",
      "Epoch 11/20\n",
      "195/195 [==============================] - 8s 43ms/step - loss: 2.2445 - accuracy: 0.1726 - val_loss: 2.2006 - val_accuracy: 0.1728\n",
      "Epoch 12/20\n",
      "195/195 [==============================] - 8s 43ms/step - loss: 2.1390 - accuracy: 0.2047 - val_loss: 2.0975 - val_accuracy: 0.2255\n",
      "Epoch 13/20\n",
      "195/195 [==============================] - 8s 43ms/step - loss: 2.0765 - accuracy: 0.2271 - val_loss: 2.0226 - val_accuracy: 0.2580\n",
      "Epoch 14/20\n",
      "195/195 [==============================] - 8s 42ms/step - loss: 2.0362 - accuracy: 0.2407 - val_loss: 2.0022 - val_accuracy: 0.2588\n",
      "Epoch 15/20\n",
      "195/195 [==============================] - 8s 41ms/step - loss: 2.0119 - accuracy: 0.2493 - val_loss: 1.9858 - val_accuracy: 0.2639\n",
      "Epoch 16/20\n",
      "195/195 [==============================] - 8s 43ms/step - loss: 1.9985 - accuracy: 0.2557 - val_loss: 1.9577 - val_accuracy: 0.2734\n",
      "Epoch 17/20\n",
      "195/195 [==============================] - 8s 42ms/step - loss: 1.9853 - accuracy: 0.2619 - val_loss: 1.9586 - val_accuracy: 0.2801\n",
      "Epoch 18/20\n",
      "195/195 [==============================] - 9s 44ms/step - loss: 1.9684 - accuracy: 0.2688 - val_loss: 1.9363 - val_accuracy: 0.2830\n",
      "Epoch 19/20\n",
      "195/195 [==============================] - 8s 43ms/step - loss: 1.9492 - accuracy: 0.2807 - val_loss: 1.9209 - val_accuracy: 0.2940\n",
      "Epoch 20/20\n",
      "195/195 [==============================] - 8s 43ms/step - loss: 1.9300 - accuracy: 0.2888 - val_loss: 1.9376 - val_accuracy: 0.2946\n"
     ]
    }
   ],
   "source": [
    "vgg11 = VGG11()\n",
    "\n",
    "vgg11.compile(\n",
    "    loss='sparse_categorical_crossentropy',\n",
    "    optimizer=tf.keras.optimizers.SGD(lr=0.01, clipnorm=1.),\n",
    "    metrics=['accuracy'],\n",
    ")\n",
    "\n",
    "history_11 = vgg11.fit(\n",
    "    ds_train,\n",
    "    steps_per_epoch=int(ds_info.splits['train'].num_examples/BATCH_SIZE),\n",
    "    validation_steps=int(ds_info.splits['test'].num_examples/BATCH_SIZE),\n",
    "    epochs=EPOCH,\n",
    "    validation_data=ds_test,\n",
    "    verbose=1\n",
    ")"
   ]
  },
  {
   "cell_type": "code",
   "execution_count": null,
   "metadata": {},
   "outputs": [],
   "source": []
  }
 ],
 "metadata": {
  "kernelspec": {
   "display_name": "Python 3",
   "language": "python",
   "name": "python3"
  },
  "language_info": {
   "codemirror_mode": {
    "name": "ipython",
    "version": 3
   },
   "file_extension": ".py",
   "mimetype": "text/x-python",
   "name": "python",
   "nbconvert_exporter": "python",
   "pygments_lexer": "ipython3",
   "version": "3.7.3"
  }
 },
 "nbformat": 4,
 "nbformat_minor": 4
}
