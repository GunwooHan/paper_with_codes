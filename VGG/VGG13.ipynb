{
 "cells": [
  {
   "cell_type": "code",
   "execution_count": 1,
   "metadata": {},
   "outputs": [],
   "source": [
    "import tensorflow as tf\n",
    "import matplotlib.pyplot as plt\n",
    "import numpy as np\n",
    "import tensorflow_datasets as tfds"
   ]
  },
  {
   "cell_type": "code",
   "execution_count": 2,
   "metadata": {},
   "outputs": [],
   "source": [
    "import urllib3\n",
    "urllib3.disable_warnings()\n",
    "\n",
    "#tfds.disable_progress_bar()   # 이 주석을 풀면 데이터셋 다운로드과정의 프로그레스바가 나타나지 않습니다.\n",
    "\n",
    "(ds_train, ds_test), ds_info = tfds.load(\n",
    "    'cifar10',\n",
    "    split=['train', 'test'],\n",
    "    shuffle_files=True,\n",
    "    with_info=True,\n",
    ")"
   ]
  },
  {
   "cell_type": "code",
   "execution_count": 3,
   "metadata": {},
   "outputs": [],
   "source": [
    "def normalize_and_resize_img(image, label):\n",
    "    \"\"\"Normalizes images: `uint8` -> `float32`.\"\"\"\n",
    "    # image = tf.image.resize(image, [32, 32])\n",
    "    return tf.cast(image, tf.float32) / 255., label"
   ]
  },
  {
   "cell_type": "code",
   "execution_count": 4,
   "metadata": {},
   "outputs": [],
   "source": [
    "def apply_normalize_on_dataset(ds, is_test=False, batch_size=16):\n",
    "    ds = ds.map(\n",
    "        normalize_and_resize_img, \n",
    "        num_parallel_calls=1\n",
    "    )\n",
    "    ds = ds.batch(batch_size)\n",
    "    if not is_test:\n",
    "        ds = ds.repeat()\n",
    "        ds = ds.shuffle(200)\n",
    "    ds = ds.prefetch(tf.data.experimental.AUTOTUNE)\n",
    "    return ds"
   ]
  },
  {
   "cell_type": "code",
   "execution_count": 5,
   "metadata": {},
   "outputs": [],
   "source": [
    "class VGG13(tf.keras.Model):\n",
    "    def __init__(self):\n",
    "        super(VGG13,self).__init__()\n",
    "        self.conv1_1 = tf.keras.layers.Conv2D(64, kernel_size=3, strides=1, padding='same',activation='relu')\n",
    "        self.conv1_2 = tf.keras.layers.Conv2D(64, kernel_size=3, strides=1, padding='same',activation='relu')\n",
    "        self.maxpool1 = tf.keras.layers.MaxPool2D(pool_size=2)\n",
    "        \n",
    "        self.conv2_1 = tf.keras.layers.Conv2D(128, kernel_size=3, strides=1, padding='same',activation='relu')\n",
    "        self.conv2_2 = tf.keras.layers.Conv2D(128, kernel_size=3, strides=1, padding='same',activation='relu')\n",
    "        self.maxpool2 = tf.keras.layers.MaxPool2D(pool_size=2)\n",
    "        \n",
    "        self.conv3_1 = tf.keras.layers.Conv2D(256, kernel_size=3, strides=1, padding='same',activation='relu')\n",
    "        self.conv3_2 = tf.keras.layers.Conv2D(256, kernel_size=3, strides=1, padding='same',activation='relu')\n",
    "        self.maxpool3 = tf.keras.layers.MaxPool2D(pool_size=2)\n",
    "        \n",
    "        self.conv4_1 = tf.keras.layers.Conv2D(512, kernel_size=3, strides=1, padding='same',activation='relu')\n",
    "        self.conv4_2 = tf.keras.layers.Conv2D(512, kernel_size=3, strides=1, padding='same',activation='relu')\n",
    "        self.maxpool4 = tf.keras.layers.MaxPool2D(pool_size=2)\n",
    "        \n",
    "        self.conv5_1 = tf.keras.layers.Conv2D(512, kernel_size=3, strides=1, padding='same',activation='relu')\n",
    "        self.conv5_2 = tf.keras.layers.Conv2D(512, kernel_size=3, strides=1, padding='same',activation='relu')\n",
    "        self.maxpool5 = tf.keras.layers.MaxPool2D(pool_size=2)\n",
    "\n",
    "        self.gap = tf.keras.layers.GlobalAveragePooling2D()\n",
    "        self.fc1 = tf.keras.layers.Dense(4096, activation='relu')\n",
    "        self.fc2 = tf.keras.layers.Dense(4096, activation='relu')\n",
    "        self.fc3 = tf.keras.layers.Dense(10, activation='softmax')        \n",
    "        \n",
    "    def call(self, input_tensor):\n",
    "        x = self.conv1_1(input_tensor)\n",
    "        x = self.conv1_2(x)\n",
    "        x = self.maxpool1(x)\n",
    "        \n",
    "        x = self.conv2_1(x)\n",
    "        x = self.conv2_2(x)\n",
    "        x = self.maxpool2(x)\n",
    "        \n",
    "        x = self.conv3_1(x)\n",
    "        x = self.conv3_2(x)\n",
    "        x = self.maxpool3(x)\n",
    "        \n",
    "        x = self.conv4_1(x)\n",
    "        x = self.conv4_2(x)\n",
    "        x = self.maxpool4(x)\n",
    "        \n",
    "        x = self.conv5_1(x)\n",
    "        x = self.conv5_2(x)\n",
    "        x = self.maxpool5(x)\n",
    "        \n",
    "        x = self.gap(x)\n",
    "        x = self.fc1(x)\n",
    "        x = self.fc2(x)\n",
    "        x = self.fc3(x)\n",
    "        return x"
   ]
  },
  {
   "cell_type": "code",
   "execution_count": 6,
   "metadata": {},
   "outputs": [],
   "source": [
    "BATCH_SIZE = 256\n",
    "EPOCH = 20\n",
    "\n",
    "(ds_train, ds_test), ds_info = tfds.load(\n",
    "    'cifar10',\n",
    "    split=['train', 'test'],\n",
    "    as_supervised=True,\n",
    "    shuffle_files=True,\n",
    "    with_info=True,\n",
    ")\n",
    "ds_train = apply_normalize_on_dataset(ds_train, batch_size=BATCH_SIZE)\n",
    "ds_test = apply_normalize_on_dataset(ds_test, batch_size=BATCH_SIZE)"
   ]
  },
  {
   "cell_type": "code",
   "execution_count": 7,
   "metadata": {},
   "outputs": [
    {
     "name": "stdout",
     "output_type": "stream",
     "text": [
      "Epoch 1/20\n",
      "195/195 [==============================] - 11s 57ms/step - loss: 2.3024 - accuracy: 0.1152 - val_loss: 2.3022 - val_accuracy: 0.1342\n",
      "Epoch 2/20\n",
      "195/195 [==============================] - 10s 52ms/step - loss: 2.3022 - accuracy: 0.1306 - val_loss: 2.3019 - val_accuracy: 0.1482\n",
      "Epoch 3/20\n",
      "195/195 [==============================] - 10s 52ms/step - loss: 2.3018 - accuracy: 0.1502 - val_loss: 2.3017 - val_accuracy: 0.1611\n",
      "Epoch 4/20\n",
      "195/195 [==============================] - 10s 51ms/step - loss: 2.3015 - accuracy: 0.1506 - val_loss: 2.3011 - val_accuracy: 0.1199\n",
      "Epoch 5/20\n",
      "195/195 [==============================] - 10s 51ms/step - loss: 2.3008 - accuracy: 0.1392 - val_loss: 2.3003 - val_accuracy: 0.1569\n",
      "Epoch 6/20\n",
      "195/195 [==============================] - 10s 51ms/step - loss: 2.2999 - accuracy: 0.1773 - val_loss: 2.2991 - val_accuracy: 0.2098\n",
      "Epoch 7/20\n",
      "195/195 [==============================] - 10s 51ms/step - loss: 2.2981 - accuracy: 0.1939 - val_loss: 2.2965 - val_accuracy: 0.2050\n",
      "Epoch 8/20\n",
      "195/195 [==============================] - 10s 51ms/step - loss: 2.2943 - accuracy: 0.1998 - val_loss: 2.2911 - val_accuracy: 0.1963\n",
      "Epoch 9/20\n",
      "195/195 [==============================] - 10s 52ms/step - loss: 2.2857 - accuracy: 0.1859 - val_loss: 2.2763 - val_accuracy: 0.1871\n",
      "Epoch 10/20\n",
      "195/195 [==============================] - 10s 50ms/step - loss: 2.2525 - accuracy: 0.1781 - val_loss: 2.2068 - val_accuracy: 0.1812\n",
      "Epoch 11/20\n",
      "195/195 [==============================] - 10s 51ms/step - loss: 2.1615 - accuracy: 0.1946 - val_loss: 2.1245 - val_accuracy: 0.2063\n",
      "Epoch 12/20\n",
      "195/195 [==============================] - 10s 53ms/step - loss: 2.1074 - accuracy: 0.2198 - val_loss: 2.0707 - val_accuracy: 0.2516\n",
      "Epoch 13/20\n",
      "195/195 [==============================] - 10s 51ms/step - loss: 2.0549 - accuracy: 0.2432 - val_loss: 2.0305 - val_accuracy: 0.2399\n",
      "Epoch 14/20\n",
      "195/195 [==============================] - 10s 52ms/step - loss: 2.0195 - accuracy: 0.2541 - val_loss: 1.9958 - val_accuracy: 0.2611\n",
      "Epoch 15/20\n",
      "195/195 [==============================] - 10s 52ms/step - loss: 1.9900 - accuracy: 0.2665 - val_loss: 1.9717 - val_accuracy: 0.2814\n",
      "Epoch 16/20\n",
      "195/195 [==============================] - 10s 51ms/step - loss: 1.9727 - accuracy: 0.2704 - val_loss: 1.9480 - val_accuracy: 0.2795\n",
      "Epoch 17/20\n",
      "195/195 [==============================] - 10s 50ms/step - loss: 1.9488 - accuracy: 0.2837 - val_loss: 1.9067 - val_accuracy: 0.2938\n",
      "Epoch 18/20\n",
      "195/195 [==============================] - 10s 51ms/step - loss: 1.9357 - accuracy: 0.2872 - val_loss: 1.9080 - val_accuracy: 0.3000\n",
      "Epoch 19/20\n",
      "195/195 [==============================] - 10s 51ms/step - loss: 1.9170 - accuracy: 0.2937 - val_loss: 1.9176 - val_accuracy: 0.3001\n",
      "Epoch 20/20\n",
      "195/195 [==============================] - 10s 53ms/step - loss: 1.9009 - accuracy: 0.3035 - val_loss: 1.8587 - val_accuracy: 0.3213\n"
     ]
    }
   ],
   "source": [
    "vgg13 = VGG13()\n",
    "\n",
    "vgg13.compile(\n",
    "    loss='sparse_categorical_crossentropy',\n",
    "    optimizer=tf.keras.optimizers.SGD(lr=0.01, clipnorm=1.),\n",
    "    metrics=['accuracy'],\n",
    ")\n",
    "\n",
    "history_13 = vgg13.fit(\n",
    "    ds_train,\n",
    "    steps_per_epoch=int(ds_info.splits['train'].num_examples/BATCH_SIZE),\n",
    "    validation_steps=int(ds_info.splits['test'].num_examples/BATCH_SIZE),\n",
    "    epochs=EPOCH,\n",
    "    validation_data=ds_test,\n",
    "    verbose=1\n",
    ")"
   ]
  },
  {
   "cell_type": "code",
   "execution_count": null,
   "metadata": {},
   "outputs": [],
   "source": []
  }
 ],
 "metadata": {
  "kernelspec": {
   "display_name": "Python 3",
   "language": "python",
   "name": "python3"
  },
  "language_info": {
   "codemirror_mode": {
    "name": "ipython",
    "version": 3
   },
   "file_extension": ".py",
   "mimetype": "text/x-python",
   "name": "python",
   "nbconvert_exporter": "python",
   "pygments_lexer": "ipython3",
   "version": "3.7.3"
  }
 },
 "nbformat": 4,
 "nbformat_minor": 4
}
