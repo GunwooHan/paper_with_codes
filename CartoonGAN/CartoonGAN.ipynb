{
 "cells": [
  {
   "source": [
    "# CartoonGAN"
   ],
   "cell_type": "markdown",
   "metadata": {}
  },
  {
   "cell_type": "code",
   "execution_count": null,
   "metadata": {},
   "outputs": [],
   "source": [
    "import tensorflow as tf\n",
    "import numpy as np\n",
    "import matplotlib.pyplot as plt\n",
    "import cv2\n",
    "import time \n",
    "import os\n",
    "from tqdm import tqdm\n"
   ]
  },
  {
   "source": [
    "# smooth target_data를 만들기 위한 전처리"
   ],
   "cell_type": "markdown",
   "metadata": {}
  },
  {
   "cell_type": "code",
   "execution_count": null,
   "metadata": {},
   "outputs": [],
   "source": [
    "def make_edge_smooth(img) :\n",
    "    kernel_size = 5\n",
    "    img_size = 256\n",
    "    kernel = np.ones((kernel_size, kernel_size), np.uint8)\n",
    "    gauss = cv2.getGaussianKernel(kernel_size, 0)\n",
    "    gauss = gauss * gauss.transpose(1, 0)\n",
    "\n",
    "    bgr_img = img\n",
    "    gray_img = cv2.cvtColor(img, cv2.COLOR_BGR2GRAY)\n",
    "\n",
    "    bgr_img = cv2.resize(bgr_img, (img_size, img_size))\n",
    "    pad_img = np.pad(bgr_img, ((2, 2), (2, 2), (0, 0)), mode='reflect')\n",
    "    gray_img = cv2.resize(gray_img, (img_size, img_size))\n",
    "\n",
    "    edges = cv2.Canny(gray_img, 100, 200)\n",
    "    dilation = cv2.dilate(edges, kernel)\n",
    "    plt.imshow(dilation)\n",
    "    gauss_img = np.copy(bgr_img)\n",
    "    idx = np.where(dilation != 0)\n",
    "    for i in range(np.sum(dilation != 0)):\n",
    "        gauss_img[idx[0][i], idx[1][i], 0] = np.sum(\n",
    "            np.multiply(pad_img[idx[0][i]:idx[0][i] + kernel_size, idx[1][i]:idx[1][i] + kernel_size, 0], gauss))\n",
    "        gauss_img[idx[0][i], idx[1][i], 1] = np.sum(\n",
    "            np.multiply(pad_img[idx[0][i]:idx[0][i] + kernel_size, idx[1][i]:idx[1][i] + kernel_size, 1], gauss))\n",
    "        gauss_img[idx[0][i], idx[1][i], 2] = np.sum(\n",
    "            np.multiply(pad_img[idx[0][i]:idx[0][i] + kernel_size, idx[1][i]:idx[1][i] + kernel_size, 2], gauss))\n",
    "    return gauss_img"
   ]
  },
  {
   "cell_type": "code",
   "execution_count": null,
   "metadata": {},
   "outputs": [],
   "source": [
    "if os.path.isdir('smooth_data'):\n",
    "    pass\n",
    "else:\n",
    "    os.mkdir('smooth_data')\n",
    "    filenames = os.listdir('target_data')\n",
    "    for filename in tqdm(filenames):\n",
    "        img = cv2.imread(f'target_data/{filename}')\n",
    "        img = make_edge_smooth(img)\n",
    "        cv2.imwrite(f\"smooth_data/{filename}\",img)"
   ]
  },
  {
   "source": [
    "# dataset 선언 및 전처리 "
   ],
   "cell_type": "markdown",
   "metadata": {}
  },
  {
   "cell_type": "code",
   "execution_count": null,
   "metadata": {},
   "outputs": [],
   "source": [
    "src_ds = tf.data.Dataset.list_files('./src_data/*', shuffle=False)\n",
    "orig_tgt_ds = tf.data.Dataset.list_files('./target_data/*', shuffle=False)\n",
    "sms_ds = tf.data.Dataset.list_files('./smooth_data/*', shuffle=False)"
   ]
  },
  {
   "cell_type": "code",
   "execution_count": null,
   "metadata": {},
   "outputs": [],
   "source": [
    "def src_load(file_path):\n",
    "    img = tf.io.read_file(file_path)\n",
    "    img = tf.image.decode_jpeg(img, channels=3)\n",
    "    return tf.image.resize(img, [256, 256])"
   ]
  },
  {
   "cell_type": "code",
   "execution_count": null,
   "metadata": {},
   "outputs": [],
   "source": [
    "def tgt_load(file_path):\n",
    "    img = tf.io.read_file(file_path)\n",
    "    img = tf.image.decode_jpeg(img, channels=3)\n",
    "    return tf.image.resize(img, [256, 256])"
   ]
  },
  {
   "cell_type": "code",
   "execution_count": null,
   "metadata": {},
   "outputs": [],
   "source": [
    "src_ds = src_ds.map(src_load, num_parallel_calls=tf.data.experimental.AUTOTUNE)\n",
    "orig_tgt_ds = orig_tgt_ds.map(tgt_load, num_parallel_calls=tf.data.experimental.AUTOTUNE)\n",
    "sms_ds = sms_ds.map(tgt_load, num_parallel_calls=tf.data.experimental.AUTOTUNE)\n",
    "\n",
    "src_ds = src_ds.map(lambda x: x/127.5-1)\n",
    "orig_tgt_ds = orig_tgt_ds.map(lambda x: x/127.5-1)\n",
    "sms_ds = sms_ds.map(lambda x: x/127.5-1)"
   ]
  },
  {
   "cell_type": "code",
   "execution_count": null,
   "metadata": {},
   "outputs": [],
   "source": [
    "tgt_ds = tf.data.Dataset.zip((orig_tgt_ds,sms_ds))"
   ]
  },
  {
   "cell_type": "code",
   "execution_count": null,
   "metadata": {},
   "outputs": [],
   "source": [
    "src_ds = src_ds.shuffle(400).batch(8)\n",
    "tgt_ds = tgt_ds.shuffle(400).batch(8)"
   ]
  },
  {
   "cell_type": "code",
   "execution_count": null,
   "metadata": {},
   "outputs": [],
   "source": [
    "print(len(src_ds))\n",
    "print(len(tgt_ds))\n",
    "len(orig_tgt_ds)\n",
    "len(sms_ds)"
   ]
  },
  {
   "source": [
    "# 모델 선언"
   ],
   "cell_type": "markdown",
   "metadata": {}
  },
  {
   "cell_type": "code",
   "execution_count": 2,
   "metadata": {},
   "outputs": [],
   "source": [
    "class DownConvolution(tf.keras.layers.Layer):\n",
    "    def __init__(self):\n",
    "        super(DownConvolution,self).__init__()\n",
    "        self.conv1 = tf.keras.layers.Conv2D(128,kernel_size=3,strides=2,padding='same')\n",
    "        self.conv2 = tf.keras.layers.Conv2D(128,kernel_size=3,strides=1,padding='same')\n",
    "        self.bn1 = tf.keras.layers.BatchNormalization()\n",
    "        \n",
    "        self.conv3 = tf.keras.layers.Conv2D(256,kernel_size=3,strides=2,padding='same')\n",
    "        self.conv4 = tf.keras.layers.Conv2D(256,kernel_size=3,strides=1,padding='same')\n",
    "        self.bn2 = tf.keras.layers.BatchNormalization()\n",
    "                   \n",
    "    def call(self,input_tensor,training=False):\n",
    "        x = self.conv1(input_tensor)\n",
    "        x = self.conv2(x)\n",
    "        x = self.bn1(x , training = training)\n",
    "        x = tf.nn.relu(x)\n",
    "        \n",
    "        x = self.conv3(x)\n",
    "        x = self.conv4(x)\n",
    "        x = self.bn2(x, training= training)\n",
    "        x = tf.nn.relu(x)\n",
    "        return x "
   ]
  },
  {
   "cell_type": "code",
   "execution_count": 3,
   "metadata": {},
   "outputs": [],
   "source": [
    "class ResidualBlock(tf.keras.layers.Layer):\n",
    "    def __init__(self):\n",
    "        super(ResidualBlock,self).__init__()\n",
    "        self.conv1 = tf.keras.layers.Conv2D(256, kernel_size=3, strides=1,padding='same')\n",
    "        self.bn1 = tf.keras.layers.BatchNormalization()\n",
    "        \n",
    "        self.conv2 = tf.keras.layers.Conv2D(256, kernel_size=3, strides=1,padding='same')\n",
    "        self.bn2 = tf.keras.layers.BatchNormalization()\n",
    "               \n",
    "    def call(self,input_tensor,training=False):\n",
    "        x = self.conv1(input_tensor)\n",
    "        x = self.bn1(x, training = training)\n",
    "        x = tf.nn.relu(x)\n",
    "        x = self.conv2(x)\n",
    "        x = self.bn2(x, training= training)\n",
    "        return x + input_tensor"
   ]
  },
  {
   "cell_type": "code",
   "execution_count": 4,
   "metadata": {},
   "outputs": [],
   "source": [
    "class UpConvolution(tf.keras.layers.Layer):\n",
    "    def __init__(self):\n",
    "        super(UpConvolution,self).__init__()\n",
    "        self.trans_conv1 = tf.keras.layers.Conv2DTranspose(128,kernel_size=3,strides=2,padding='same')\n",
    "        self.trans_conv2 = tf.keras.layers.Conv2DTranspose(128,kernel_size=3,strides=1,padding='same')\n",
    "        self.bn1 = tf.keras.layers.BatchNormalization()\n",
    "    \n",
    "        self.trans_conv3 = tf.keras.layers.Conv2DTranspose(64,kernel_size=3,strides=2,padding='same')\n",
    "        self.trans_conv4 = tf.keras.layers.Conv2DTranspose(64,kernel_size=3,strides=1,padding='same')\n",
    "        self.bn2 = tf.keras.layers.BatchNormalization()\n",
    "    \n",
    "    def call(self,input_tensor,training=False):\n",
    "        x = self.trans_conv1(input_tensor)\n",
    "        x = self.trans_conv2(x)\n",
    "        x = self.bn1(x, training = training)\n",
    "        x = tf.nn.relu(x)\n",
    "        \n",
    "        x = self.trans_conv3(x)\n",
    "        x = self.trans_conv4(x)\n",
    "        x = self.bn2(x)\n",
    "        x = tf.nn.relu(x)\n",
    "        return x"
   ]
  },
  {
   "cell_type": "code",
   "execution_count": 5,
   "metadata": {},
   "outputs": [],
   "source": [
    "class generator(tf.keras.Model):\n",
    "    def __init__(self):\n",
    "        super(generator,self).__init__()\n",
    "        \n",
    "        self.conv1 = tf.keras.layers.Conv2D(64,kernel_size=7,strides=1,padding='same')\n",
    "        self.bn1 = tf.keras.layers.BatchNormalization()\n",
    "        \n",
    "        self.down_conv = DownConvolution()\n",
    "        \n",
    "        self.residual1 = ResidualBlock()\n",
    "        self.residual2 = ResidualBlock()\n",
    "        self.residual3 = ResidualBlock()\n",
    "        self.residual4 = ResidualBlock()\n",
    "        self.residual5 = ResidualBlock()\n",
    "        self.residual6 = ResidualBlock()\n",
    "        self.residual7 = ResidualBlock()\n",
    "        self.residual8 = ResidualBlock()\n",
    "        \n",
    "        self.up_conv = UpConvolution()\n",
    "        \n",
    "        self.conv2 = tf.keras.layers.Conv2D(3, kernel_size=7, strides=1,padding='same')\n",
    "        \n",
    "    def call(self,input_tensor,training=False):\n",
    "        \n",
    "        x = self.conv1(input_tensor)\n",
    "        x = self.bn1(x)\n",
    "        x = tf.nn.relu(x)\n",
    "        \n",
    "        x = self.down_conv(x)\n",
    "        \n",
    "        x = self.residual1(x)\n",
    "        x = self.residual2(x)\n",
    "        x = self.residual3(x)\n",
    "        x = self.residual4(x)\n",
    "        x = self.residual5(x)\n",
    "        x = self.residual6(x)\n",
    "        x = self.residual7(x)\n",
    "        x = self.residual8(x)\n",
    "        \n",
    "        x = self.up_conv(x)\n",
    "        x = self.conv2(x)\n",
    "        x = tf.nn.tanh(x)\n",
    "        return x\n"
   ]
  },
  {
   "cell_type": "code",
   "execution_count": 6,
   "metadata": {},
   "outputs": [],
   "source": [
    "class discriminator(tf.keras.Model):\n",
    "    def __init__(self):\n",
    "        super(discriminator,self).__init__()\n",
    "        self.conv1 = tf.keras.layers.Conv2D(32,kernel_size=3,strides=1,padding='same')\n",
    "        \n",
    "        self.conv2 = tf.keras.layers.Conv2D(64,kernel_size=3, strides=2, padding='same')\n",
    "        self.conv3 = tf.keras.layers.Conv2D(128,kernel_size=3,strides=1, padding='same')\n",
    "        self.bn1 = tf.keras.layers.BatchNormalization()\n",
    "        \n",
    "        self.conv4 = tf.keras.layers.Conv2D(128,kernel_size=3,strides=2,padding='same')\n",
    "        self.conv5 = tf.keras.layers.Conv2D(256,kernel_size=3, strides=1, padding='same')\n",
    "        self.bn2 = tf.keras.layers.BatchNormalization()\n",
    "        \n",
    "        self.conv6 = tf.keras.layers.Conv2D(256,kernel_size=3, strides=1, padding='same')\n",
    "        self.bn3 = tf.keras.layers.BatchNormalization()      \n",
    "        \n",
    "        self.conv7 = tf.keras.layers.Conv2D(1,kernel_size=3, strides=1, padding='same')\n",
    "    \n",
    "    def call(self, input_tensor, training=False):\n",
    "        x = self.conv1(input_tensor)\n",
    "        x = tf.nn.leaky_relu(x)\n",
    "        \n",
    "        x = self.conv2(x)\n",
    "        x = tf.nn.leaky_relu(x)\n",
    "        x = self.conv3(x)\n",
    "        x = self.bn1(x, training= training)\n",
    "        x = tf.nn.leaky_relu(x)\n",
    "        \n",
    "        x = self.conv4(x)\n",
    "        x = tf.nn.leaky_relu(x)\n",
    "        x = self.conv5(x)\n",
    "        x = self.bn2(x, training = training)\n",
    "        x = tf.nn.leaky_relu(x)\n",
    "        \n",
    "        x = self.conv6(x)\n",
    "        x = self.bn3(x, training= training)\n",
    "        x = tf.nn.leaky_relu(x)\n",
    "        \n",
    "        x = self.conv7(x)\n",
    "        return x    "
   ]
  },
  {
   "source": [
    "# generator와 discriminator 선언\n",
    "# model의 input size 지정 (None,None,3) "
   ],
   "cell_type": "markdown",
   "metadata": {}
  },
  {
   "cell_type": "code",
   "execution_count": 18,
   "metadata": {},
   "outputs": [],
   "source": [
    "disc = discriminator()\n",
    "gen = generator()\n",
    "input_d = tf.keras.Input(shape=(None,None,3))\n",
    "output_d = disc(input_d)\n",
    "d = tf.keras.Model(inputs=input_d,outputs=output_d)\n",
    "\n",
    "input_g = tf.keras.Input(shape=(None,None,3))\n",
    "output_g = gen(input_g)\n",
    "g = tf.keras.Model(inputs=input_g,outputs=output_g)"
   ]
  },
  {
   "cell_type": "code",
   "execution_count": 19,
   "metadata": {},
   "outputs": [],
   "source": [
    "generator_optimizer = tf.keras.optimizers.Adam(1e-4)\n",
    "discriminator_optimizer = tf.keras.optimizers.Adam(1e-4)\n",
    "\n",
    "cross_entropy = tf.keras.losses.BinaryCrossentropy(from_logits=True)\n",
    "L1_loss = tf.keras.losses.MeanAbsoluteError()\n",
    "\n",
    "def adversarial_loss(real_output, smooth_output,fake_output):\n",
    "    real_loss = cross_entropy(tf.ones_like(real_output),real_output)\n",
    "    smooth_loss = cross_entropy(tf.ones_like(smooth_output),real_output)\n",
    "    fake_loss = cross_entropy(tf.zeros_like(fake_output),fake_output)\n",
    "    \n",
    "    total_loss = real_loss + fake_loss + smooth_loss\n",
    "    return total_loss\n",
    "\n",
    "\n",
    "def generator_loss(fake_output):\n",
    "    return cross_entropy(tf.ones_like(fake_output),fake_output)\n",
    "\n",
    "def content_loss(src_feature, reconstruct_feature):\n",
    "    return L1_loss(src_feature, reconstruct_feature)"
   ]
  },
  {
   "source": [
    "# 이쯤에서 데이터가 멀쩡한지 확인"
   ],
   "cell_type": "markdown",
   "metadata": {}
  },
  {
   "cell_type": "code",
   "execution_count": 20,
   "metadata": {},
   "outputs": [
    {
     "data": {
      "image/png": "[encoded data removed]",
      "text/plain": [
       "<Figure size 432x288 with 2 Axes>"
      ]
     },
     "metadata": {
      "needs_background": "light"
     },
     "output_type": "display_data"
    }
   ],
   "source": [
    "for i in tgt_ds.take(1):\n",
    "    plt.subplot(221)\n",
    "    plt.imshow(((i[0][0].numpy()+1)*127.5).astype(np.uint8))\n",
    "    \n",
    "    plt.subplot(222)\n",
    "    plt.imshow(((i[1][0].numpy()+1)*127.5).astype(np.uint8))"
   ]
  },
  {
   "source": [
    "# content loss를 위한 VGG19 pretrained model 가져오기 "
   ],
   "cell_type": "markdown",
   "metadata": {}
  },
  {
   "cell_type": "code",
   "execution_count": 4,
   "metadata": {},
   "outputs": [
    {
     "output_type": "stream",
     "name": "stdout",
     "text": [
      "Downloading data from https://storage.googleapis.com/tensorflow/keras-applications/vgg19/vgg19_weights_tf_dim_ordering_tf_kernels_notop.h5\n",
      "80142336/80134624 [==============================] - 3s 0us/step\n"
     ]
    }
   ],
   "source": [
    "vgg19 = tf.keras.applications.VGG19(weights='imagenet',input_shape=(None,None,3),include_top=False)\n",
    "feature_extracter = tf.keras.Model(inputs=vgg19.input,outputs=vgg19.get_layer('block4_conv4').output)"
   ]
  },
  {
   "cell_type": "code",
   "execution_count": 22,
   "metadata": {},
   "outputs": [],
   "source": [
    "def VGG(input_tensor,feature_extracter):\n",
    "    return feature_extracter(input_tensor)"
   ]
  },
  {
   "source": [
    "# pretrain phase (content loss로만 10epoch 학습)"
   ],
   "cell_type": "markdown",
   "metadata": {}
  },
  {
   "cell_type": "code",
   "execution_count": 23,
   "metadata": {},
   "outputs": [
    {
     "name": "stderr",
     "output_type": "stream",
     "text": [
      "100%|██████████| 448/448 [03:22<00:00,  2.23it/s]\n"
     ]
    },
    {
     "name": "stdout",
     "output_type": "stream",
     "text": [
      "epoch : 1, time : 202.55567049980164 , pretrain_loss : 2027.904052734375\n"
     ]
    }
   ],
   "source": [
    "for epoch in range(1,11):\n",
    "    pretrain_loss = 0.0\n",
    "    start_time = time.time()\n",
    "    for src_batch in tqdm(src_ds):\n",
    "        with tf.GradientTape() as gen_tape:\n",
    "            generated_img = g(src_batch, training=True)\n",
    "\n",
    "            reconstruct_feature = VGG(generated_img,feature_extracter) \n",
    "            src_feature = VGG(src_batch,feature_extracter)\n",
    "\n",
    "            c_loss = 10 * content_loss(reconstruct_feature,src_feature)\n",
    "            pretrain_loss += c_loss\n",
    "\n",
    "        gradients_of_generator = gen_tape.gradient(c_loss, g.trainable_variables)\n",
    "        generator_optimizer.apply_gradients(zip(gradients_of_generator, g.trainable_variables))\n",
    "\n",
    "    print(f'epoch : {epoch}, time : {time.time()-start_time} , pretrain_loss : {pretrain_loss}')"
   ]
  },
  {
   "cell_type": "code",
   "execution_count": 24,
   "metadata": {},
   "outputs": [
    {
     "name": "stdout",
     "output_type": "stream",
     "text": [
      "WARNING:tensorflow:From /opt/tljh/user/lib/python3.7/site-packages/tensorflow/python/training/tracking/tracking.py:111: Model.state_updates (from tensorflow.python.keras.engine.training) is deprecated and will be removed in a future version.\n",
      "Instructions for updating:\n",
      "This property should not be used in TensorFlow 2.0, as updates are applied automatically.\n",
      "WARNING:tensorflow:From /opt/tljh/user/lib/python3.7/site-packages/tensorflow/python/training/tracking/tracking.py:111: Layer.updates (from tensorflow.python.keras.engine.base_layer) is deprecated and will be removed in a future version.\n",
      "Instructions for updating:\n",
      "This property should not be used in TensorFlow 2.0, as updates are applied automatically.\n",
      "INFO:tensorflow:Assets written to: pretrain/assets\n"
     ]
    }
   ],
   "source": [
    "tf.keras.models.save_model(g,'pretrain')"
   ]
  },
  {
   "source": [
    "# 학습\n",
    "매 epoch 마다 result 이미지 출력  \n",
    "generator와 discriminator weight 저장  "
   ],
   "cell_type": "markdown",
   "metadata": {}
  },
  {
   "cell_type": "code",
   "execution_count": null,
   "metadata": {},
   "outputs": [],
   "source": [
    "if os.path.isdir('results'):\n",
    "    pass\n",
    "else:\n",
    "    os.mkdir('results')"
   ]
  },
  {
   "cell_type": "code",
   "execution_count": 25,
   "metadata": {},
   "outputs": [
    {
     "name": "stderr",
     "output_type": "stream",
     "text": [
      "448it [05:30,  1.36it/s]\n"
     ]
    },
    {
     "name": "stdout",
     "output_type": "stream",
     "text": [
      "INFO:tensorflow:Assets written to: checkpoint/generator_1/assets\n",
      "INFO:tensorflow:Assets written to: checkpoint/discriminator_1/assets\n"
     ]
    },
    {
     "name": "stderr",
     "output_type": "stream",
     "text": [
      "100%|██████████| 3584/3584 [01:35<00:00, 31.71it/s]"
     ]
    },
    {
     "name": "stdout",
     "output_type": "stream",
     "text": [
      "epoch : 1, time : 432.70980954170227 , total_loss : 45818.9765625 , gen_loss : 191.44358825683594 ,disc_loss : 1.7147243022918701\n"
     ]
    },
    {
     "name": "stderr",
     "output_type": "stream",
     "text": [
      "\n"
     ]
    }
   ],
   "source": [
    "for epoch in range(1,2):\n",
    "    start_time = time.time()\n",
    "    total_loss=0.0\n",
    "    total_gen_loss = 0.0\n",
    "    total_adv_loss = 0.0\n",
    "    for src_batch, tgt_batch in tqdm(zip(src_ds,tgt_ds)):\n",
    "        with tf.GradientTape() as gen_tape, tf.GradientTape() as disc_tape:\n",
    "            generated_img = g(src_batch, training=True)\n",
    "\n",
    "            reconstruct_feature = VGG(generated_img,feature_extracter) \n",
    "            src_feature = VGG(src_batch,feature_extracter)\n",
    "\n",
    "            c_loss = content_loss(reconstruct_feature,src_feature)\n",
    "\n",
    "            fake_loss = d(generated_img,training=True)\n",
    "            real_loss = d(tgt_batch[0],training=True)\n",
    "            smooth_loss = d(tgt_batch[1],training=True)\n",
    "\n",
    "            adv_loss = adversarial_loss(real_loss, smooth_loss, fake_loss)\n",
    "            gen_loss = generator_loss(fake_loss)\n",
    "\n",
    "\n",
    "            total_gen_loss += gen_loss + 10 * c_loss\n",
    "            total_adv_loss += adv_loss\n",
    "            \n",
    "            total_loss += adv_loss + total_gen_loss\n",
    "\n",
    "        gradients_of_generator = gen_tape.gradient(total_gen_loss, g.trainable_variables)\n",
    "        gradients_of_discriminator = disc_tape.gradient(adv_loss, d.trainable_variables)\n",
    "\n",
    "        generator_optimizer.apply_gradients(zip(gradients_of_generator, g.trainable_variables))\n",
    "        discriminator_optimizer.apply_gradients(zip(gradients_of_discriminator, d.trainable_variables))\n",
    "    total_loss = total_loss/len(src_batch)\n",
    "    total_gen_loss = total_gen_loss/len(src_batch)\n",
    "    total_adv_loss = total_adv_loss/len(src_batch)\n",
    "    \n",
    "    tf.keras.models.save_model(g,f'checkpoint/generator_{epoch}')\n",
    "    tf.keras.models.save_model(d,f'checkpoint/discriminator_{epoch}')\n",
    "    \n",
    "    if os.path.isdir(f'results/{epoch}'):\n",
    "        pass\n",
    "    else:\n",
    "        os.mkdir(f'results/{epoch}')\n",
    "\n",
    "    filenames = os.listdir('src_data')\n",
    "    for filename in tqdm(filenames):\n",
    "        img_array = np.fromfile(f'src_data/{filename}', np.uint8)\n",
    "        img = cv2.imdecode(img_array, cv2.IMREAD_COLOR)\n",
    "        img = g((img[tf.newaxis,...]/127.5-1).astype('float32'))\n",
    "        cv2.imwrite(f\"results/{epoch}/{filename}\",(((img[0]+1)*127.5).numpy()).astype(np.uint8))\n",
    "\n",
    "    print(f'epoch : {epoch}, time : {time.time()-start_time} , total_loss : {total_loss} , gen_loss : {total_gen_loss} ,disc_loss : {adv_loss}')"
   ]
  },
  {
   "source": [
    "# 결과 확인"
   ],
   "cell_type": "markdown",
   "metadata": {}
  },
  {
   "cell_type": "code",
   "execution_count": 26,
   "metadata": {},
   "outputs": [
    {
     "name": "stdout",
     "output_type": "stream",
     "text": [
      "WARNING:tensorflow:No training configuration found in save file, so the model was *not* compiled. Compile it manually.\n"
     ]
    }
   ],
   "source": [
    "img = cv2.imread('1.jpg')\n",
    "new_model = tf.keras.models.load_model('checkpoint/generator_200')"
   ]
  },
  {
   "cell_type": "code",
   "execution_count": 27,
   "metadata": {},
   "outputs": [],
   "source": [
    "output_img=new_model.predict(cv2.resize(img,(256,256))[tf.newaxis,...])"
   ]
  },
  {
   "cell_type": "code",
   "execution_count": 28,
   "metadata": {},
   "outputs": [
    {
     "data": {
      "text/plain": [
       "<matplotlib.image.AxesImage at 0x7f714e3d2588>"
      ]
     },
     "execution_count": 28,
     "metadata": {},
     "output_type": "execute_result"
    },
    {
     "data": {
      "image/png": "[encoded data removed]",
      "text/plain": [
       "<Figure size 432x288 with 1 Axes>"
      ]
     },
     "metadata": {
      "needs_background": "light"
     },
     "output_type": "display_data"
    }
   ],
   "source": [
    "plt.imshow(tf.cast(output_img[0]*127.5+127.5,np.uint8))"
   ]
  },
  {
   "cell_type": "code",
   "execution_count": null,
   "metadata": {},
   "outputs": [],
   "source": []
  }
 ],
 "metadata": {
  "kernelspec": {
   "name": "python3",
   "display_name": "Python 3.7.10 64-bit ('tensorflow': conda)",
   "metadata": {
    "interpreter": {
     "hash": "08bc22ad758ff8a62845cf8b1c9bbea10553839d5654b4a9bce5873b4df9ccb4"
    }
   }
  },
  "language_info": {
   "codemirror_mode": {
    "name": "ipython",
    "version": 3
   },
   "file_extension": ".py",
   "mimetype": "text/x-python",
   "name": "python",
   "nbconvert_exporter": "python",
   "pygments_lexer": "ipython3",
   "version": "3.7.10-final"
  }
 },
 "nbformat": 4,
 "nbformat_minor": 4
}