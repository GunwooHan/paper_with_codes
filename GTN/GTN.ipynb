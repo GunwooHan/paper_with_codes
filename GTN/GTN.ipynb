{
 "cells": [
  {
   "cell_type": "code",
   "execution_count": 1,
   "metadata": {},
   "outputs": [],
   "source": [
    "import tensorflow as tf\n",
    "import numpy as np\n",
    "import matplotlib.pyplot as plt"
   ]
  },
  {
   "cell_type": "code",
   "execution_count": 2,
   "metadata": {},
   "outputs": [],
   "source": [
    "class generator(tf.keras.Model):\n",
    "    def __init__(self):\n",
    "        super(generator,self).__init__()\n",
    "        self.dense1 = tf.keras.layers.Dense(7*7*256,input_dim=(100,))\n",
    "        self.reshape = tf.keras.layers.Reshape((7,7,256))\n",
    "        \n",
    "        self.conv1 = tf.keras.layers.Conv2DTranspose(128,kernel_size=5,strides=1,padding='same')\n",
    "        self.bn1 = tf.keras.layers.BatchNormalization()\n",
    "        \n",
    "        self.conv2 = tf.keras.layers.Conv2DTranspose(64,kernel_size=5,strides=2,padding='same')\n",
    "        self.bn2 = tf.keras.layers.BatchNormalization()\n",
    "        \n",
    "        self.conv3 = tf.keras.layers.Conv2DTranspose(1,kernel_size=5,strides=2,padding='same')\n",
    "    \n",
    "    def call(self, input_tensor, training =False):\n",
    "        x = self.dense1(input_tensor)\n",
    "        x = self.reshape(x)\n",
    "        \n",
    "        x = self.conv1(x)\n",
    "        x = self.bn1(x, training = training)\n",
    "        x = tf.nn.leaky_relu(x)\n",
    "        \n",
    "        x = self.conv2(x)\n",
    "        x = self.bn2(x, training = training)\n",
    "        x = tf.nn.leaky_relu(x)\n",
    "        \n",
    "        x = self.conv3(x)\n",
    "        x = tf.nn.tanh(x)\n",
    "        return x        "
   ]
  },
  {
   "cell_type": "code",
   "execution_count": 3,
   "metadata": {},
   "outputs": [],
   "source": [
    "class learner(tf.keras.Model):\n",
    "    def __init__(self):\n",
    "        super(learner,self).__init__()\n",
    "        self.model = tf.keras.applications.vgg19(include_top = True, classes = 10)\n",
    "    \n",
    "    def call(self, input_tensor):\n",
    "        x = self.model(input_tensor)\n",
    "        return x"
   ]
  },
  {
   "cell_type": "code",
   "execution_count": null,
   "metadata": {},
   "outputs": [],
   "source": [
    "(_,_),(test_x,test_y)"
   ]
  }
 ],
 "metadata": {
  "kernelspec": {
   "display_name": "Python 3",
   "language": "python",
   "name": "python3"
  },
  "language_info": {
   "codemirror_mode": {
    "name": "ipython",
    "version": 3
   },
   "file_extension": ".py",
   "mimetype": "text/x-python",
   "name": "python",
   "nbconvert_exporter": "python",
   "pygments_lexer": "ipython3",
   "version": "3.7.3"
  }
 },
 "nbformat": 4,
 "nbformat_minor": 4
}
