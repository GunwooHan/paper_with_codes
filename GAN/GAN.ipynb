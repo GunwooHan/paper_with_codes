{
 "metadata": {
  "language_info": {
   "codemirror_mode": {
    "name": "ipython",
    "version": 3
   },
   "file_extension": ".py",
   "mimetype": "text/x-python",
   "name": "python",
   "nbconvert_exporter": "python",
   "pygments_lexer": "ipython3",
   "version": "3.7.10-final"
  },
  "orig_nbformat": 2,
  "kernelspec": {
   "name": "python3",
   "display_name": "Python 3.7.10 64-bit ('tensorflow': conda)",
   "metadata": {
    "interpreter": {
     "hash": "08bc22ad758ff8a62845cf8b1c9bbea10553839d5654b4a9bce5873b4df9ccb4"
    }
   }
  }
 },
 "nbformat": 4,
 "nbformat_minor": 2,
 "cells": [
  {
   "cell_type": "code",
   "execution_count": 1,
   "metadata": {},
   "outputs": [],
   "source": [
    "import tensorflow as tf\n",
    "import numpy as np\n",
    "import matplotlib.pyplot as plt"
   ]
  },
  {
   "cell_type": "code",
   "execution_count": 2,
   "metadata": {},
   "outputs": [],
   "source": [
    "img_rows = 28\n",
    "img_cols = 28\n",
    "channels =1\n",
    "\n",
    "img_shape = (img_rows,img_cols,channels)\n",
    "z_dim =100"
   ]
  },
  {
   "cell_type": "code",
   "execution_count": 9,
   "metadata": {},
   "outputs": [],
   "source": [
    "class generator(tf.keras.Model):\n",
    "    def __init__(self,z_dim):\n",
    "        super(generator,self).__init__()\n",
    "        self.fc1 = tf.keras.layers.Dense(128, input_dim=(100,))\n",
    "        self.fc2 = tf.keras.layers.Dense(28*28*1)\n",
    "        self.reshape = tf.keras.layers.Reshape(img_shape)\n",
    "    \n",
    "    def call(self, input_tensor):\n",
    "        x = self.fc1(input_tensor)\n",
    "        x = tf.nn.leaky_relu(x ,alpha=0.01)\n",
    "        x = self.fc2(x)\n",
    "        x = tf.nn.tanh(x)\n",
    "        return x        "
   ]
  },
  {
   "cell_type": "code",
   "execution_count": 10,
   "metadata": {},
   "outputs": [],
   "source": [
    "class discriminator(tf.keras.Model):\n",
    "    def __init__(self,img_shape):\n",
    "        super(discriminator,self).__init__()\n",
    "        self.flatten = tf.keras.layers.Flatten()\n",
    "        self.fc1 = tf.keras.layers.Dense(128)\n",
    "        self.fc2 = tf.keras.layers.Dense(1)\n",
    "\n",
    "    def call(self, input_tensor):\n",
    "        x = self.flatten(input_tensor)\n",
    "        x = self.fc1(x)\n",
    "        x =  tf.nn.leaky_relu(x, alpha=0.01)\n",
    "        x = self.fc2(x)\n",
    "        x = tf.nn.sigmoid(x)\n",
    "        return x      "
   ]
  },
  {
   "cell_type": "code",
   "execution_count": 11,
   "metadata": {},
   "outputs": [],
   "source": [
    "g = generator(100)\n",
    "d = discriminator(img_shape)"
   ]
  },
  {
   "cell_type": "code",
   "execution_count": 12,
   "metadata": {},
   "outputs": [],
   "source": [
    "generator_optimizer = tf.keras.optimizers.Adam()\n",
    "discriminator_optimizer = tf.keras.optimizers.Adam()\n",
    "\n",
    "def generator_loss(fake_ouput):\n",
    "    return tf.keras.losses.BinaryCrossentropy()(tf.ones_like(fake_ouput.shape),fake_ouput)\n",
    "\n",
    "def discriminator_loss(real_output, fake_output):\n",
    "    real_loss = tf.keras.losses.BinaryCrossentropy()(tf.ones_like(real_output),real_output)\n",
    "    fake_loss = tf.keras.losses.BinaryCrossentropy()(tf.zeros_like(fake_ouput),fake_ouput)\n",
    "    return 0.5 * (real_loss + fake_loss)"
   ]
  },
  {
   "cell_type": "code",
   "execution_count": 13,
   "metadata": {},
   "outputs": [],
   "source": [
    "def sample_images(generator, image_grid_rows=4, image_grid_cols=4):\n",
    "    z = np.random.normal(0, 1, (image_grid_rows * image_grid_cols, z_dim))\n",
    "    gen_imgs = generator(z)\n",
    "    gen_imgs = 0.5 * gen_imgs + 0.5\n",
    "\n",
    "    fig, axs = plt.subplots(image_grid_rows, image_grid_cols, figsize=(4,4))\n",
    "\n",
    "    cnt =0\n",
    "    for i in range(image_grid_rows):\n",
    "        for j in range(image_grid_cols):\n",
    "            axs[i,j].imshow(gen_imgs[cnt,:,:,0], cmap='gray')\n",
    "            axs[i,j].axis('off')\n",
    "            cnt+=1"
   ]
  },
  {
   "cell_type": "code",
   "execution_count": 14,
   "metadata": {},
   "outputs": [],
   "source": [
    "def train(iterations, batch_size, sample_interval):\n",
    "    (x_train,_),(_,_) = tf.keras.datasets.mnist.load_data()\n",
    "\n",
    "    x_train = x_train / 127.5 -1.0\n",
    "    x_train = x_train[...,tf.newaxis]\n",
    "\n",
    "    real  = np.ones((batch_size, 1))\n",
    "    fake  = np.zeros((batch_size, 1))\n",
    "\n",
    "    for iteration in range(1, iterations+1):\n",
    "        total_d_loss = 0.0\n",
    "        total_g_loss = 0.0\n",
    "\n",
    "        with tf.GradientTape() as gen_tape, tf.GradientTape() as disc_tape:\n",
    "\n",
    "            idx = np.random.randint(0, x_train.shape[0], batch_size)\n",
    "            imgs = x_train[idx]\n",
    "\n",
    "            z = np.random.normal(0, 1, (batch_size,100))\n",
    "            \n",
    "            generated_img = g(z)\n",
    "            real_output = d(imgs)\n",
    "            fake_output = d(generated_img)\n",
    "\n",
    "            gen_loss = generator_loss(fake_output)\n",
    "            disc_loss = discriminator_loss(real_output, fake_output)\n",
    "\n",
    "            total_g_loss += gen_loss\n",
    "            total_d_loss += disc_loss\n",
    "\n",
    "        gen_gradient = gen_tape.gradient(gen_loss, g.trainable_variables)\n",
    "        disc_gradient = disc_tape.gradient(disc_loss, d.trainable_variables)\n",
    "\n",
    "        generator_optimizer.apply_gradients(zip(gen_gradient, g.trainable_variables))\n",
    "        discriminator_optimizer.apply_gradients(zip(disc_gradient, d.trainable_variables))\n",
    "\n",
    "        if iteration % sample_interval == 0:\n",
    "            print(f'iteration : {iteration} G loss = {total_g_loss/iteration:.4f} D loss = {total_d_loss/iteration:.4f}')\n",
    "            sample_images(g)\n",
    "\n",
    "train(20000, 256, 1000)"
   ]
  },
  {
   "cell_type": "code",
   "execution_count": null,
   "metadata": {},
   "outputs": [],
   "source": [
    "z = np.random.normal(0, 1, (1,100))\n",
    "g(z)"
   ]
  },
  {
   "cell_type": "code",
   "execution_count": null,
   "metadata": {},
   "outputs": [],
   "source": []
  }
 ]
}