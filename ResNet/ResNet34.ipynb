{
 "cells": [
  {
   "cell_type": "code",
   "execution_count": 1,
   "metadata": {},
   "outputs": [],
   "source": [
    "import numpy as np\n",
    "import tensorflow as tf\n",
    "import matplotlib.pyplot as plt"
   ]
  },
  {
   "cell_type": "code",
   "execution_count": 29,
   "metadata": {},
   "outputs": [],
   "source": [
    "class ConvBlock(tf.keras.Model):\n",
    "    def __init__(self, channels, first_strides=1):\n",
    "        super(ConvBlock, self).__init__()\n",
    "        self.conv1 = tf.keras.layers.Conv2D(channels, kernel_size=3, strides=first_strides, padding='same')\n",
    "        self.bn1 = tf.keras.layers.BatchNormalization()\n",
    "        \n",
    "        self.conv2 = tf.keras.layers.Conv2D(channels, kernel_size=3, strides=1, padding='same')\n",
    "        self.bn2 = tf.keras.layers.BatchNormalization()\n",
    "        \n",
    "\n",
    "    def call(self, input_tensor, training = False):\n",
    "        x = self.conv1(input_tensor)\n",
    "        x = self.bn1(x)\n",
    "        x = tf.nn.relu(x)\n",
    "        \n",
    "        x = self.conv2(x)\n",
    "        x = self.bn2(x)\n",
    "        return x"
   ]
  },
  {
   "cell_type": "code",
   "execution_count": 30,
   "metadata": {},
   "outputs": [],
   "source": [
    "class ResBlock(tf.keras.Model):\n",
    "    def __init__(self, channels, down_sample=False):\n",
    "        super(ResBlock, self).__init__()\n",
    "        self.down_sample = down_sample\n",
    "        \n",
    "        self.conv_block1 = ConvBlock(channels, first_strides =2 if down_sample else 1)\n",
    "        \n",
    "        if self.down_sample:\n",
    "            self.down_sample_conv= tf.keras.layers.Conv2D(channels, kernel_size=1, strides=2, padding='same')\n",
    "            self.down_bn = tf.keras.layers.BatchNormalization()\n",
    "    \n",
    "    def call(self, input_tensor, training = False):\n",
    "        \n",
    "        x = self.conv_block1(input_tensor)\n",
    "        \n",
    "        if self.down_sample:\n",
    "            input_tensor = self.down_sample_conv(input_tensor)\n",
    "            input_tensor = self.down_bn(input_tensor)\n",
    "        \n",
    "        x = x + input_tensor\n",
    "        x = tf.nn.relu(x)\n",
    "        return x"
   ]
  },
  {
   "cell_type": "code",
   "execution_count": 4,
   "metadata": {},
   "outputs": [],
   "source": [
    "class ResNet34(tf.keras.Model):\n",
    "    def __init__(self):\n",
    "        super(ResNet34, self).__init__()\n",
    "        self.conv1 = tf.keras.layers.Conv2D(64, kernel_size=7, strides=2, padding='same')\n",
    "        self.bn1 = tf.keras.layers.BatchNormalization()\n",
    "        self.maxpool1 = tf.keras.layers.MaxPool2D(pool_size=3, strides=2, padding='same')\n",
    "        \n",
    "        self.res_block1_1 = ResBlock(64)\n",
    "        self.res_block1_2 = ResBlock(64)\n",
    "        self.res_block1_3 = ResBlock(64)\n",
    "        \n",
    "        self.res_block2_1 = ResBlock(128, down_sample=True)\n",
    "        self.res_block2_2 = ResBlock(128)\n",
    "        self.res_block2_3 = ResBlock(128)\n",
    "        self.res_block2_4 = ResBlock(128)\n",
    "        \n",
    "        self.res_block3_1 = ResBlock(256, down_sample=True)\n",
    "        self.res_block3_2 = ResBlock(256)\n",
    "        self.res_block3_3 = ResBlock(256)\n",
    "        self.res_block3_4 = ResBlock(256)\n",
    "        self.res_block3_5 = ResBlock(256)\n",
    "        self.res_block3_6 = ResBlock(256)\n",
    "        \n",
    "        self.res_block4_1 = ResBlock(512, down_sample=True)\n",
    "        self.res_block4_2 = ResBlock(512)\n",
    "        self.res_block4_3 = ResBlock(512)\n",
    "        \n",
    "        self.avg = tf.keras.layers.GlobalAveragePooling2D()\n",
    "        self.flat = tf.keras.layers.Flatten()\n",
    "        self.fc = tf.keras.layers.Dense(10)\n",
    "        \n",
    "    def call(self, input_tensor, training = False):\n",
    "        x = self.conv1(input_tensor)\n",
    "        x = self.bn1(x)\n",
    "        x = tf.nn.relu(x)\n",
    "        x = self.maxpool1(x)\n",
    "        \n",
    "        x = self.res_block1_1(x)\n",
    "        x = self.res_block1_2(x)\n",
    "        x = self.res_block1_3(x)\n",
    "        \n",
    "        x = self.res_block2_1(x)\n",
    "        x = self.res_block2_2(x)\n",
    "        x = self.res_block2_3(x)\n",
    "        x = self.res_block2_4(x)\n",
    "        \n",
    "        x = self.res_block3_1(x)\n",
    "        x = self.res_block3_2(x)\n",
    "        x = self.res_block3_3(x)\n",
    "        x = self.res_block3_4(x)\n",
    "        x = self.res_block3_5(x)\n",
    "        x = self.res_block3_6(x)\n",
    "        \n",
    "        x = self.res_block4_1(x)\n",
    "        x = self.res_block4_2(x)\n",
    "        x = self.res_block4_3(x)\n",
    "        \n",
    "        x = self.avg(x)\n",
    "        x = self.flat(x)\n",
    "        x = self.fc(x)\n",
    "        return x"
   ]
  },
  {
   "cell_type": "code",
   "execution_count": 5,
   "metadata": {},
   "outputs": [],
   "source": [
    "# conv 36928\n",
    "# bn 256\n",
    "# conv 36928\n",
    "# bn 256\n",
    "# down conv 4160\n",
    "# down bn 256"
   ]
  },
  {
   "cell_type": "code",
   "execution_count": 6,
   "metadata": {},
   "outputs": [],
   "source": [
    "model = ResNet34()"
   ]
  },
  {
   "cell_type": "code",
   "execution_count": 7,
   "metadata": {},
   "outputs": [],
   "source": [
    "model.build(input_shape=(None,32,32,3))"
   ]
  },
  {
   "cell_type": "code",
   "execution_count": 8,
   "metadata": {},
   "outputs": [
    {
     "name": "stdout",
     "output_type": "stream",
     "text": [
      "Model: \"res_net34\"\n",
      "_________________________________________________________________\n",
      "Layer (type)                 Output Shape              Param #   \n",
      "=================================================================\n",
      "conv2d (Conv2D)              multiple                  9472      \n",
      "_________________________________________________________________\n",
      "batch_normalization (BatchNo multiple                  256       \n",
      "_________________________________________________________________\n",
      "max_pooling2d (MaxPooling2D) multiple                  0         \n",
      "_________________________________________________________________\n",
      "res_block (ResBlock)         multiple                  74368     \n",
      "_________________________________________________________________\n",
      "res_block_1 (ResBlock)       multiple                  74368     \n",
      "_________________________________________________________________\n",
      "res_block_2 (ResBlock)       multiple                  74368     \n",
      "_________________________________________________________________\n",
      "res_block_3 (ResBlock)       multiple                  231296    \n",
      "_________________________________________________________________\n",
      "res_block_4 (ResBlock)       multiple                  296192    \n",
      "_________________________________________________________________\n",
      "res_block_5 (ResBlock)       multiple                  296192    \n",
      "_________________________________________________________________\n",
      "res_block_6 (ResBlock)       multiple                  296192    \n",
      "_________________________________________________________________\n",
      "res_block_7 (ResBlock)       multiple                  921344    \n",
      "_________________________________________________________________\n",
      "res_block_8 (ResBlock)       multiple                  1182208   \n",
      "_________________________________________________________________\n",
      "res_block_9 (ResBlock)       multiple                  1182208   \n",
      "_________________________________________________________________\n",
      "res_block_10 (ResBlock)      multiple                  1182208   \n",
      "_________________________________________________________________\n",
      "res_block_11 (ResBlock)      multiple                  1182208   \n",
      "_________________________________________________________________\n",
      "res_block_12 (ResBlock)      multiple                  1182208   \n",
      "_________________________________________________________________\n",
      "res_block_13 (ResBlock)      multiple                  3677696   \n",
      "_________________________________________________________________\n",
      "res_block_14 (ResBlock)      multiple                  4723712   \n",
      "_________________________________________________________________\n",
      "res_block_15 (ResBlock)      multiple                  4723712   \n",
      "_________________________________________________________________\n",
      "global_average_pooling2d (Gl multiple                  0         \n",
      "_________________________________________________________________\n",
      "flatten (Flatten)            multiple                  0         \n",
      "_________________________________________________________________\n",
      "dense (Dense)                multiple                  5130      \n",
      "=================================================================\n",
      "Total params: 21,315,338\n",
      "Trainable params: 21,298,314\n",
      "Non-trainable params: 17,024\n",
      "_________________________________________________________________\n"
     ]
    }
   ],
   "source": [
    "model.summary()"
   ]
  },
  {
   "cell_type": "code",
   "execution_count": 26,
   "metadata": {},
   "outputs": [],
   "source": [
    "res_block = ResBlock(128, down_sample=True)"
   ]
  },
  {
   "cell_type": "code",
   "execution_count": 20,
   "metadata": {},
   "outputs": [],
   "source": [
    "inputs = tf.keras.layers.Input(shape=(8,8,64))\n",
    "x = res_block(inputs)\n",
    "temp_model = tf.keras.Model(inputs=inputs, outputs=x)"
   ]
  },
  {
   "cell_type": "code",
   "execution_count": 21,
   "metadata": {},
   "outputs": [
    {
     "name": "stdout",
     "output_type": "stream",
     "text": [
      "Model: \"functional_1\"\n",
      "_________________________________________________________________\n",
      "Layer (type)                 Output Shape              Param #   \n",
      "=================================================================\n",
      "input_1 (InputLayer)         [(None, 8, 8, 64)]        0         \n",
      "_________________________________________________________________\n",
      "res_block_16 (ResBlock)      (None, 4, 4, 128)         231296    \n",
      "=================================================================\n",
      "Total params: 231,296\n",
      "Trainable params: 230,528\n",
      "Non-trainable params: 768\n",
      "_________________________________________________________________\n"
     ]
    }
   ],
   "source": [
    "temp_model.summary()"
   ]
  },
  {
   "cell_type": "code",
   "execution_count": 27,
   "metadata": {},
   "outputs": [],
   "source": [
    "res_block.build(input_shape=(None,8,8,64))"
   ]
  },
  {
   "cell_type": "code",
   "execution_count": 28,
   "metadata": {},
   "outputs": [
    {
     "name": "stdout",
     "output_type": "stream",
     "text": [
      "Model: \"res_block_17\"\n",
      "_________________________________________________________________\n",
      "Layer (type)                 Output Shape              Param #   \n",
      "=================================================================\n",
      "conv_block_17 (ConvBlock)    multiple                  156928    \n",
      "_________________________________________________________________\n",
      "conv2d_41 (Conv2D)           multiple                  8320      \n",
      "_________________________________________________________________\n",
      "batch_normalization_41 (Batc multiple                  512       \n",
      "=================================================================\n",
      "Total params: 165,760\n",
      "Trainable params: 164,992\n",
      "Non-trainable params: 768\n",
      "_________________________________________________________________\n"
     ]
    }
   ],
   "source": [
    "res_block.summary()"
   ]
  },
  {
   "cell_type": "code",
   "execution_count": null,
   "metadata": {},
   "outputs": [],
   "source": []
  }
 ],
 "metadata": {
  "kernelspec": {
   "display_name": "Python 3",
   "language": "python",
   "name": "python3"
  },
  "language_info": {
   "codemirror_mode": {
    "name": "ipython",
    "version": 3
   },
   "file_extension": ".py",
   "mimetype": "text/x-python",
   "name": "python",
   "nbconvert_exporter": "python",
   "pygments_lexer": "ipython3",
   "version": "3.7.3"
  }
 },
 "nbformat": 4,
 "nbformat_minor": 4
}
